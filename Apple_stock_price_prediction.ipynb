{
  "nbformat": 4,
  "nbformat_minor": 0,
  "metadata": {
    "colab": {
      "name": "Apple stock price prediction.ipynb",
      "provenance": [],
      "authorship_tag": "ABX9TyNgyhtXS0lGIBdc2d+xWB/i",
      "include_colab_link": true
    },
    "kernelspec": {
      "name": "python3",
      "display_name": "Python 3"
    }
  },
  "cells": [
    {
      "cell_type": "markdown",
      "metadata": {
        "id": "view-in-github",
        "colab_type": "text"
      },
      "source": [
        "<a href=\"https://colab.research.google.com/github/vickydaiya/Widhya-Internship/blob/main/Apple_stock_price_prediction.ipynb\" target=\"_parent\"><img src=\"https://colab.research.google.com/assets/colab-badge.svg\" alt=\"Open In Colab\"/></a>"
      ]
    },
    {
      "cell_type": "markdown",
      "metadata": {
        "id": "NIqDTB9CI6lM"
      },
      "source": [
        "### **Getting Apple stock data**"
      ]
    },
    {
      "cell_type": "code",
      "metadata": {
        "colab": {
          "base_uri": "https://localhost:8080/",
          "height": 223
        },
        "id": "Bvs4Nv5Dr8u8",
        "outputId": "16d1ad0e-3443-416e-eeab-98d0eb003295"
      },
      "source": [
        "import pandas as pd\r\n",
        "import quandl\r\n",
        "df = quandl.get(\"EOD/AAPL\", authtoken=\"********************\") #Make an account on quandl and get your API key\r\n",
        "df.head(5)"
      ],
      "execution_count": 1,
      "outputs": [
        {
          "output_type": "execute_result",
          "data": {
            "text/html": [
              "<div>\n",
              "<style scoped>\n",
              "    .dataframe tbody tr th:only-of-type {\n",
              "        vertical-align: middle;\n",
              "    }\n",
              "\n",
              "    .dataframe tbody tr th {\n",
              "        vertical-align: top;\n",
              "    }\n",
              "\n",
              "    .dataframe thead th {\n",
              "        text-align: right;\n",
              "    }\n",
              "</style>\n",
              "<table border=\"1\" class=\"dataframe\">\n",
              "  <thead>\n",
              "    <tr style=\"text-align: right;\">\n",
              "      <th></th>\n",
              "      <th>Open</th>\n",
              "      <th>High</th>\n",
              "      <th>Low</th>\n",
              "      <th>Close</th>\n",
              "      <th>Volume</th>\n",
              "      <th>Dividend</th>\n",
              "      <th>Split</th>\n",
              "      <th>Adj_Open</th>\n",
              "      <th>Adj_High</th>\n",
              "      <th>Adj_Low</th>\n",
              "      <th>Adj_Close</th>\n",
              "      <th>Adj_Volume</th>\n",
              "    </tr>\n",
              "    <tr>\n",
              "      <th>Date</th>\n",
              "      <th></th>\n",
              "      <th></th>\n",
              "      <th></th>\n",
              "      <th></th>\n",
              "      <th></th>\n",
              "      <th></th>\n",
              "      <th></th>\n",
              "      <th></th>\n",
              "      <th></th>\n",
              "      <th></th>\n",
              "      <th></th>\n",
              "      <th></th>\n",
              "    </tr>\n",
              "  </thead>\n",
              "  <tbody>\n",
              "    <tr>\n",
              "      <th>2013-09-03</th>\n",
              "      <td>493.10</td>\n",
              "      <td>500.60</td>\n",
              "      <td>487.35</td>\n",
              "      <td>488.580</td>\n",
              "      <td>11854600.0</td>\n",
              "      <td>0.0</td>\n",
              "      <td>1.0</td>\n",
              "      <td>15.619650</td>\n",
              "      <td>15.857223</td>\n",
              "      <td>15.437510</td>\n",
              "      <td>15.476472</td>\n",
              "      <td>331928800.0</td>\n",
              "    </tr>\n",
              "    <tr>\n",
              "      <th>2013-09-04</th>\n",
              "      <td>499.56</td>\n",
              "      <td>502.24</td>\n",
              "      <td>496.28</td>\n",
              "      <td>498.691</td>\n",
              "      <td>12322600.0</td>\n",
              "      <td>0.0</td>\n",
              "      <td>1.0</td>\n",
              "      <td>15.824280</td>\n",
              "      <td>15.909173</td>\n",
              "      <td>15.720381</td>\n",
              "      <td>15.796753</td>\n",
              "      <td>345032800.0</td>\n",
              "    </tr>\n",
              "    <tr>\n",
              "      <th>2013-09-05</th>\n",
              "      <td>500.25</td>\n",
              "      <td>500.68</td>\n",
              "      <td>493.64</td>\n",
              "      <td>495.270</td>\n",
              "      <td>8441700.0</td>\n",
              "      <td>0.0</td>\n",
              "      <td>1.0</td>\n",
              "      <td>15.846136</td>\n",
              "      <td>15.859757</td>\n",
              "      <td>15.636755</td>\n",
              "      <td>15.688388</td>\n",
              "      <td>236367600.0</td>\n",
              "    </tr>\n",
              "    <tr>\n",
              "      <th>2013-09-06</th>\n",
              "      <td>498.44</td>\n",
              "      <td>499.38</td>\n",
              "      <td>489.95</td>\n",
              "      <td>498.220</td>\n",
              "      <td>12840200.0</td>\n",
              "      <td>0.0</td>\n",
              "      <td>1.0</td>\n",
              "      <td>15.788802</td>\n",
              "      <td>15.818578</td>\n",
              "      <td>15.519869</td>\n",
              "      <td>15.781833</td>\n",
              "      <td>359525600.0</td>\n",
              "    </tr>\n",
              "    <tr>\n",
              "      <th>2013-09-09</th>\n",
              "      <td>505.00</td>\n",
              "      <td>507.92</td>\n",
              "      <td>503.48</td>\n",
              "      <td>506.170</td>\n",
              "      <td>12167400.0</td>\n",
              "      <td>0.0</td>\n",
              "      <td>1.0</td>\n",
              "      <td>15.996600</td>\n",
              "      <td>16.089095</td>\n",
              "      <td>15.948451</td>\n",
              "      <td>16.033661</td>\n",
              "      <td>340687200.0</td>\n",
              "    </tr>\n",
              "  </tbody>\n",
              "</table>\n",
              "</div>"
            ],
            "text/plain": [
              "              Open    High     Low  ...    Adj_Low  Adj_Close   Adj_Volume\n",
              "Date                                ...                                   \n",
              "2013-09-03  493.10  500.60  487.35  ...  15.437510  15.476472  331928800.0\n",
              "2013-09-04  499.56  502.24  496.28  ...  15.720381  15.796753  345032800.0\n",
              "2013-09-05  500.25  500.68  493.64  ...  15.636755  15.688388  236367600.0\n",
              "2013-09-06  498.44  499.38  489.95  ...  15.519869  15.781833  359525600.0\n",
              "2013-09-09  505.00  507.92  503.48  ...  15.948451  16.033661  340687200.0\n",
              "\n",
              "[5 rows x 12 columns]"
            ]
          },
          "metadata": {
            "tags": []
          },
          "execution_count": 1
        }
      ]
    },
    {
      "cell_type": "markdown",
      "metadata": {
        "id": "pC5ASRpEJBD2"
      },
      "source": [
        "### **Removing unnecessary columns**"
      ]
    },
    {
      "cell_type": "code",
      "metadata": {
        "id": "F_HW8trcxN8C",
        "colab": {
          "base_uri": "https://localhost:8080/",
          "height": 223
        },
        "outputId": "80dde0f8-4e3d-4815-ae40-3157b84bfc57"
      },
      "source": [
        "#Adjusted columns are the most ideal ones. Regular columns here are on day prices. \r\n",
        "#Stocks have a concept \"stock splits\" where 1 share becomes like 2 shares. Thus the value of share is halved but the value of company has not halved.\r\n",
        "\r\n",
        "clean_df = df[['Adj_Open','Adj_High','Adj_Low','Adj_Close','Adj_Volume']]\r\n",
        "clean_df.head(5)"
      ],
      "execution_count": 2,
      "outputs": [
        {
          "output_type": "execute_result",
          "data": {
            "text/html": [
              "<div>\n",
              "<style scoped>\n",
              "    .dataframe tbody tr th:only-of-type {\n",
              "        vertical-align: middle;\n",
              "    }\n",
              "\n",
              "    .dataframe tbody tr th {\n",
              "        vertical-align: top;\n",
              "    }\n",
              "\n",
              "    .dataframe thead th {\n",
              "        text-align: right;\n",
              "    }\n",
              "</style>\n",
              "<table border=\"1\" class=\"dataframe\">\n",
              "  <thead>\n",
              "    <tr style=\"text-align: right;\">\n",
              "      <th></th>\n",
              "      <th>Adj_Open</th>\n",
              "      <th>Adj_High</th>\n",
              "      <th>Adj_Low</th>\n",
              "      <th>Adj_Close</th>\n",
              "      <th>Adj_Volume</th>\n",
              "    </tr>\n",
              "    <tr>\n",
              "      <th>Date</th>\n",
              "      <th></th>\n",
              "      <th></th>\n",
              "      <th></th>\n",
              "      <th></th>\n",
              "      <th></th>\n",
              "    </tr>\n",
              "  </thead>\n",
              "  <tbody>\n",
              "    <tr>\n",
              "      <th>2013-09-03</th>\n",
              "      <td>15.619650</td>\n",
              "      <td>15.857223</td>\n",
              "      <td>15.437510</td>\n",
              "      <td>15.476472</td>\n",
              "      <td>331928800.0</td>\n",
              "    </tr>\n",
              "    <tr>\n",
              "      <th>2013-09-04</th>\n",
              "      <td>15.824280</td>\n",
              "      <td>15.909173</td>\n",
              "      <td>15.720381</td>\n",
              "      <td>15.796753</td>\n",
              "      <td>345032800.0</td>\n",
              "    </tr>\n",
              "    <tr>\n",
              "      <th>2013-09-05</th>\n",
              "      <td>15.846136</td>\n",
              "      <td>15.859757</td>\n",
              "      <td>15.636755</td>\n",
              "      <td>15.688388</td>\n",
              "      <td>236367600.0</td>\n",
              "    </tr>\n",
              "    <tr>\n",
              "      <th>2013-09-06</th>\n",
              "      <td>15.788802</td>\n",
              "      <td>15.818578</td>\n",
              "      <td>15.519869</td>\n",
              "      <td>15.781833</td>\n",
              "      <td>359525600.0</td>\n",
              "    </tr>\n",
              "    <tr>\n",
              "      <th>2013-09-09</th>\n",
              "      <td>15.996600</td>\n",
              "      <td>16.089095</td>\n",
              "      <td>15.948451</td>\n",
              "      <td>16.033661</td>\n",
              "      <td>340687200.0</td>\n",
              "    </tr>\n",
              "  </tbody>\n",
              "</table>\n",
              "</div>"
            ],
            "text/plain": [
              "             Adj_Open   Adj_High    Adj_Low  Adj_Close   Adj_Volume\n",
              "Date                                                               \n",
              "2013-09-03  15.619650  15.857223  15.437510  15.476472  331928800.0\n",
              "2013-09-04  15.824280  15.909173  15.720381  15.796753  345032800.0\n",
              "2013-09-05  15.846136  15.859757  15.636755  15.688388  236367600.0\n",
              "2013-09-06  15.788802  15.818578  15.519869  15.781833  359525600.0\n",
              "2013-09-09  15.996600  16.089095  15.948451  16.033661  340687200.0"
            ]
          },
          "metadata": {
            "tags": []
          },
          "execution_count": 2
        }
      ]
    },
    {
      "cell_type": "markdown",
      "metadata": {
        "id": "hwoPAzKEJGTN"
      },
      "source": [
        "### **Adding 2 columns viz. high low percentage and percent change**"
      ]
    },
    {
      "cell_type": "code",
      "metadata": {
        "id": "lcjgLNIV05OU",
        "colab": {
          "base_uri": "https://localhost:8080/",
          "height": 223
        },
        "outputId": "e15eb83b-8a29-419a-c081-a4fbccd91a91"
      },
      "source": [
        "#These 2 are meaningful features which will help in more accurate predictions\r\n",
        "\r\n",
        "clean_df.insert(loc=len(clean_df.columns),column=\"HL_PCT\",value=(clean_df.Adj_High - clean_df.Adj_Low)/clean_df.Adj_Close * 100)\r\n",
        "clean_df.insert(loc=len(clean_df.columns),column=\"PCT_change\",value=(clean_df.Adj_Close - clean_df.Adj_Open)/clean_df.Adj_Open * 100)\r\n",
        "clean_df.head(5)"
      ],
      "execution_count": 3,
      "outputs": [
        {
          "output_type": "execute_result",
          "data": {
            "text/html": [
              "<div>\n",
              "<style scoped>\n",
              "    .dataframe tbody tr th:only-of-type {\n",
              "        vertical-align: middle;\n",
              "    }\n",
              "\n",
              "    .dataframe tbody tr th {\n",
              "        vertical-align: top;\n",
              "    }\n",
              "\n",
              "    .dataframe thead th {\n",
              "        text-align: right;\n",
              "    }\n",
              "</style>\n",
              "<table border=\"1\" class=\"dataframe\">\n",
              "  <thead>\n",
              "    <tr style=\"text-align: right;\">\n",
              "      <th></th>\n",
              "      <th>Adj_Open</th>\n",
              "      <th>Adj_High</th>\n",
              "      <th>Adj_Low</th>\n",
              "      <th>Adj_Close</th>\n",
              "      <th>Adj_Volume</th>\n",
              "      <th>HL_PCT</th>\n",
              "      <th>PCT_change</th>\n",
              "    </tr>\n",
              "    <tr>\n",
              "      <th>Date</th>\n",
              "      <th></th>\n",
              "      <th></th>\n",
              "      <th></th>\n",
              "      <th></th>\n",
              "      <th></th>\n",
              "      <th></th>\n",
              "      <th></th>\n",
              "    </tr>\n",
              "  </thead>\n",
              "  <tbody>\n",
              "    <tr>\n",
              "      <th>2013-09-03</th>\n",
              "      <td>15.619650</td>\n",
              "      <td>15.857223</td>\n",
              "      <td>15.437510</td>\n",
              "      <td>15.476472</td>\n",
              "      <td>331928800.0</td>\n",
              "      <td>2.711941</td>\n",
              "      <td>-0.916650</td>\n",
              "    </tr>\n",
              "    <tr>\n",
              "      <th>2013-09-04</th>\n",
              "      <td>15.824280</td>\n",
              "      <td>15.909173</td>\n",
              "      <td>15.720381</td>\n",
              "      <td>15.796753</td>\n",
              "      <td>345032800.0</td>\n",
              "      <td>1.195129</td>\n",
              "      <td>-0.173953</td>\n",
              "    </tr>\n",
              "    <tr>\n",
              "      <th>2013-09-05</th>\n",
              "      <td>15.846136</td>\n",
              "      <td>15.859757</td>\n",
              "      <td>15.636755</td>\n",
              "      <td>15.688388</td>\n",
              "      <td>236367600.0</td>\n",
              "      <td>1.421447</td>\n",
              "      <td>-0.995502</td>\n",
              "    </tr>\n",
              "    <tr>\n",
              "      <th>2013-09-06</th>\n",
              "      <td>15.788802</td>\n",
              "      <td>15.818578</td>\n",
              "      <td>15.519869</td>\n",
              "      <td>15.781833</td>\n",
              "      <td>359525600.0</td>\n",
              "      <td>1.892738</td>\n",
              "      <td>-0.044138</td>\n",
              "    </tr>\n",
              "    <tr>\n",
              "      <th>2013-09-09</th>\n",
              "      <td>15.996600</td>\n",
              "      <td>16.089095</td>\n",
              "      <td>15.948451</td>\n",
              "      <td>16.033661</td>\n",
              "      <td>340687200.0</td>\n",
              "      <td>0.877176</td>\n",
              "      <td>0.231683</td>\n",
              "    </tr>\n",
              "  </tbody>\n",
              "</table>\n",
              "</div>"
            ],
            "text/plain": [
              "             Adj_Open   Adj_High    Adj_Low  ...   Adj_Volume    HL_PCT  PCT_change\n",
              "Date                                         ...                                   \n",
              "2013-09-03  15.619650  15.857223  15.437510  ...  331928800.0  2.711941   -0.916650\n",
              "2013-09-04  15.824280  15.909173  15.720381  ...  345032800.0  1.195129   -0.173953\n",
              "2013-09-05  15.846136  15.859757  15.636755  ...  236367600.0  1.421447   -0.995502\n",
              "2013-09-06  15.788802  15.818578  15.519869  ...  359525600.0  1.892738   -0.044138\n",
              "2013-09-09  15.996600  16.089095  15.948451  ...  340687200.0  0.877176    0.231683\n",
              "\n",
              "[5 rows x 7 columns]"
            ]
          },
          "metadata": {
            "tags": []
          },
          "execution_count": 3
        }
      ]
    },
    {
      "cell_type": "markdown",
      "metadata": {
        "id": "dQntr-CnJQK9"
      },
      "source": [
        "### **Removing unnecessary columns**"
      ]
    },
    {
      "cell_type": "code",
      "metadata": {
        "id": "Uah2hS8b1-hS",
        "colab": {
          "base_uri": "https://localhost:8080/",
          "height": 223
        },
        "outputId": "14c16c16-82ff-46b8-fcf7-d773a61ee7d7"
      },
      "source": [
        "#we are interested in only the closing price of the stock on a day and hence the other prices can be dropped\r\n",
        "\r\n",
        "clean_df = clean_df.drop(labels=['Adj_Open','Adj_High','Adj_Low'],axis='columns')\r\n",
        "clean_df.head(5)"
      ],
      "execution_count": 4,
      "outputs": [
        {
          "output_type": "execute_result",
          "data": {
            "text/html": [
              "<div>\n",
              "<style scoped>\n",
              "    .dataframe tbody tr th:only-of-type {\n",
              "        vertical-align: middle;\n",
              "    }\n",
              "\n",
              "    .dataframe tbody tr th {\n",
              "        vertical-align: top;\n",
              "    }\n",
              "\n",
              "    .dataframe thead th {\n",
              "        text-align: right;\n",
              "    }\n",
              "</style>\n",
              "<table border=\"1\" class=\"dataframe\">\n",
              "  <thead>\n",
              "    <tr style=\"text-align: right;\">\n",
              "      <th></th>\n",
              "      <th>Adj_Close</th>\n",
              "      <th>Adj_Volume</th>\n",
              "      <th>HL_PCT</th>\n",
              "      <th>PCT_change</th>\n",
              "    </tr>\n",
              "    <tr>\n",
              "      <th>Date</th>\n",
              "      <th></th>\n",
              "      <th></th>\n",
              "      <th></th>\n",
              "      <th></th>\n",
              "    </tr>\n",
              "  </thead>\n",
              "  <tbody>\n",
              "    <tr>\n",
              "      <th>2013-09-03</th>\n",
              "      <td>15.476472</td>\n",
              "      <td>331928800.0</td>\n",
              "      <td>2.711941</td>\n",
              "      <td>-0.916650</td>\n",
              "    </tr>\n",
              "    <tr>\n",
              "      <th>2013-09-04</th>\n",
              "      <td>15.796753</td>\n",
              "      <td>345032800.0</td>\n",
              "      <td>1.195129</td>\n",
              "      <td>-0.173953</td>\n",
              "    </tr>\n",
              "    <tr>\n",
              "      <th>2013-09-05</th>\n",
              "      <td>15.688388</td>\n",
              "      <td>236367600.0</td>\n",
              "      <td>1.421447</td>\n",
              "      <td>-0.995502</td>\n",
              "    </tr>\n",
              "    <tr>\n",
              "      <th>2013-09-06</th>\n",
              "      <td>15.781833</td>\n",
              "      <td>359525600.0</td>\n",
              "      <td>1.892738</td>\n",
              "      <td>-0.044138</td>\n",
              "    </tr>\n",
              "    <tr>\n",
              "      <th>2013-09-09</th>\n",
              "      <td>16.033661</td>\n",
              "      <td>340687200.0</td>\n",
              "      <td>0.877176</td>\n",
              "      <td>0.231683</td>\n",
              "    </tr>\n",
              "  </tbody>\n",
              "</table>\n",
              "</div>"
            ],
            "text/plain": [
              "            Adj_Close   Adj_Volume    HL_PCT  PCT_change\n",
              "Date                                                    \n",
              "2013-09-03  15.476472  331928800.0  2.711941   -0.916650\n",
              "2013-09-04  15.796753  345032800.0  1.195129   -0.173953\n",
              "2013-09-05  15.688388  236367600.0  1.421447   -0.995502\n",
              "2013-09-06  15.781833  359525600.0  1.892738   -0.044138\n",
              "2013-09-09  16.033661  340687200.0  0.877176    0.231683"
            ]
          },
          "metadata": {
            "tags": []
          },
          "execution_count": 4
        }
      ]
    },
    {
      "cell_type": "markdown",
      "metadata": {
        "id": "sIMyd6nDJUtH"
      },
      "source": [
        "### **Checking for NA values**"
      ]
    },
    {
      "cell_type": "code",
      "metadata": {
        "id": "SOZKCM4I3sLn",
        "colab": {
          "base_uri": "https://localhost:8080/"
        },
        "outputId": "2c04a2b1-6bfc-4ea8-83c6-66afb45530ee"
      },
      "source": [
        "for colname in clean_df.columns:\r\n",
        "  print(colname,\" : \",sum(clean_df[colname].isna()))"
      ],
      "execution_count": 5,
      "outputs": [
        {
          "output_type": "stream",
          "text": [
            "Adj_Close  :  0\n",
            "Adj_Volume  :  0\n",
            "HL_PCT  :  0\n",
            "PCT_change  :  0\n"
          ],
          "name": "stdout"
        }
      ]
    },
    {
      "cell_type": "markdown",
      "metadata": {
        "id": "uduVSk7FJYeC"
      },
      "source": [
        "### **Inserting labels (prediction for next day) column**"
      ]
    },
    {
      "cell_type": "code",
      "metadata": {
        "id": "jR7Wp41z9T0g",
        "colab": {
          "base_uri": "https://localhost:8080/",
          "height": 223
        },
        "outputId": "d70a3d4b-bbdd-4fd9-f9e9-84eeb7566e02"
      },
      "source": [
        "#we have the next day prices for a particular day (except the last day in the dataset). This will serve as label for training the model.\r\n",
        "\r\n",
        "clean_df.insert(loc=len(clean_df.columns),column=\"labels\",value=df.Adj_Close.shift(-1, axis = 0))\r\n",
        "clean_df.head(5)"
      ],
      "execution_count": 6,
      "outputs": [
        {
          "output_type": "execute_result",
          "data": {
            "text/html": [
              "<div>\n",
              "<style scoped>\n",
              "    .dataframe tbody tr th:only-of-type {\n",
              "        vertical-align: middle;\n",
              "    }\n",
              "\n",
              "    .dataframe tbody tr th {\n",
              "        vertical-align: top;\n",
              "    }\n",
              "\n",
              "    .dataframe thead th {\n",
              "        text-align: right;\n",
              "    }\n",
              "</style>\n",
              "<table border=\"1\" class=\"dataframe\">\n",
              "  <thead>\n",
              "    <tr style=\"text-align: right;\">\n",
              "      <th></th>\n",
              "      <th>Adj_Close</th>\n",
              "      <th>Adj_Volume</th>\n",
              "      <th>HL_PCT</th>\n",
              "      <th>PCT_change</th>\n",
              "      <th>labels</th>\n",
              "    </tr>\n",
              "    <tr>\n",
              "      <th>Date</th>\n",
              "      <th></th>\n",
              "      <th></th>\n",
              "      <th></th>\n",
              "      <th></th>\n",
              "      <th></th>\n",
              "    </tr>\n",
              "  </thead>\n",
              "  <tbody>\n",
              "    <tr>\n",
              "      <th>2013-09-03</th>\n",
              "      <td>15.476472</td>\n",
              "      <td>331928800.0</td>\n",
              "      <td>2.711941</td>\n",
              "      <td>-0.916650</td>\n",
              "      <td>15.796753</td>\n",
              "    </tr>\n",
              "    <tr>\n",
              "      <th>2013-09-04</th>\n",
              "      <td>15.796753</td>\n",
              "      <td>345032800.0</td>\n",
              "      <td>1.195129</td>\n",
              "      <td>-0.173953</td>\n",
              "      <td>15.688388</td>\n",
              "    </tr>\n",
              "    <tr>\n",
              "      <th>2013-09-05</th>\n",
              "      <td>15.688388</td>\n",
              "      <td>236367600.0</td>\n",
              "      <td>1.421447</td>\n",
              "      <td>-0.995502</td>\n",
              "      <td>15.781833</td>\n",
              "    </tr>\n",
              "    <tr>\n",
              "      <th>2013-09-06</th>\n",
              "      <td>15.781833</td>\n",
              "      <td>359525600.0</td>\n",
              "      <td>1.892738</td>\n",
              "      <td>-0.044138</td>\n",
              "      <td>16.033661</td>\n",
              "    </tr>\n",
              "    <tr>\n",
              "      <th>2013-09-09</th>\n",
              "      <td>16.033661</td>\n",
              "      <td>340687200.0</td>\n",
              "      <td>0.877176</td>\n",
              "      <td>0.231683</td>\n",
              "      <td>15.668432</td>\n",
              "    </tr>\n",
              "  </tbody>\n",
              "</table>\n",
              "</div>"
            ],
            "text/plain": [
              "            Adj_Close   Adj_Volume    HL_PCT  PCT_change     labels\n",
              "Date                                                               \n",
              "2013-09-03  15.476472  331928800.0  2.711941   -0.916650  15.796753\n",
              "2013-09-04  15.796753  345032800.0  1.195129   -0.173953  15.688388\n",
              "2013-09-05  15.688388  236367600.0  1.421447   -0.995502  15.781833\n",
              "2013-09-06  15.781833  359525600.0  1.892738   -0.044138  16.033661\n",
              "2013-09-09  16.033661  340687200.0  0.877176    0.231683  15.668432"
            ]
          },
          "metadata": {
            "tags": []
          },
          "execution_count": 6
        }
      ]
    },
    {
      "cell_type": "markdown",
      "metadata": {
        "id": "2avwdxy-LZqw"
      },
      "source": [
        "### **Removing records with NA**"
      ]
    },
    {
      "cell_type": "code",
      "metadata": {
        "id": "Misz2uTLK0bW"
      },
      "source": [
        "#last entry of labels column will have NA since no next day prediction value is available. Hence, removing that record\r\n",
        "\r\n",
        "clean_df = clean_df.dropna(axis = 0, how ='any')"
      ],
      "execution_count": 7,
      "outputs": []
    },
    {
      "cell_type": "markdown",
      "metadata": {
        "id": "oqYeB4ePJe0v"
      },
      "source": [
        "### **Dividing features and output variables**"
      ]
    },
    {
      "cell_type": "code",
      "metadata": {
        "id": "PoDhn0_IDNCL"
      },
      "source": [
        "import numpy as np\r\n",
        "\r\n",
        "X = np.array(clean_df.iloc[:, clean_df.columns != 'labels'])\r\n",
        "y = np.array(clean_df.iloc[:, clean_df.columns == 'labels'])"
      ],
      "execution_count": 8,
      "outputs": []
    },
    {
      "cell_type": "markdown",
      "metadata": {
        "id": "rfS8Ju_JJouu"
      },
      "source": [
        "### **Mean and standard deviation of feature variables**"
      ]
    },
    {
      "cell_type": "code",
      "metadata": {
        "colab": {
          "base_uri": "https://localhost:8080/"
        },
        "id": "jNnX-DkbFuRT",
        "outputId": "90d186b2-74de-4cef-8d75-09b99895f5ea"
      },
      "source": [
        "print(\"Mean: \",X.mean(axis=0))\r\n",
        "print(\"Standard deviation: \", X.std(axis=0))"
      ],
      "execution_count": 9,
      "outputs": [
        {
          "output_type": "stream",
          "text": [
            "Mean:  [2.63596212e+01 1.93250266e+08 1.65025149e+00 2.67776937e-02]\n",
            "Standard deviation:  [6.60125888e+00 1.11222288e+08 9.72184204e-01 1.14730248e+00]\n"
          ],
          "name": "stdout"
        }
      ]
    },
    {
      "cell_type": "markdown",
      "metadata": {
        "id": "-8FLfmFLJuOn"
      },
      "source": [
        "### **Scaling (normalization) feature variables**"
      ]
    },
    {
      "cell_type": "code",
      "metadata": {
        "colab": {
          "base_uri": "https://localhost:8080/"
        },
        "id": "kU1f002SG1-J",
        "outputId": "493499b7-83cf-42da-943f-9c02f77db189"
      },
      "source": [
        "from sklearn import preprocessing\r\n",
        "\r\n",
        "scaler = preprocessing.StandardScaler().fit(X)\r\n",
        "X_scaled = scaler.transform(X)\r\n",
        "print(X_scaled)\r\n",
        "print(\"Mean: \",X_scaled.mean(axis=0))\r\n",
        "print(\"Standard deviation: \",X_scaled.std(axis=0))"
      ],
      "execution_count": 10,
      "outputs": [
        {
          "output_type": "stream",
          "text": [
            "[[-1.64864747  1.24685921  1.09206592 -0.82230055]\n",
            " [-1.60012938  1.36467732 -0.46814445 -0.17495889]\n",
            " [-1.6165452   0.38766811 -0.23535108 -0.89102914]\n",
            " ...\n",
            " [ 2.3847004  -1.14952221 -1.15439199  0.14132209]\n",
            " [ 2.22289522 -0.54402875 -0.61741663 -0.14071103]\n",
            " [ 2.2239885  -0.96435181 -1.05232461  0.2328654 ]]\n",
            "Mean:  [ 6.78571575e-16  5.21978135e-17 -5.21978135e-17 -6.52472668e-18]\n",
            "Standard deviation:  [1. 1. 1. 1.]\n"
          ],
          "name": "stdout"
        }
      ]
    },
    {
      "cell_type": "markdown",
      "metadata": {
        "id": "SJWnOivNLhLj"
      },
      "source": [
        "### **Creating train and test sets**"
      ]
    },
    {
      "cell_type": "code",
      "metadata": {
        "id": "xxp-Z2WqJz2y",
        "colab": {
          "base_uri": "https://localhost:8080/"
        },
        "outputId": "ed8360ec-56bc-4db2-9da7-728234f80c32"
      },
      "source": [
        "from sklearn.model_selection import train_test_split\r\n",
        "\r\n",
        "X_train, X_test, y_train, y_test = train_test_split(X_scaled,y,test_size = 0.2,random_state=1)\r\n",
        "print(\"X_train shape: \",X_train.shape)\r\n",
        "print(\"X_test shape: \",X_test.shape)\r\n",
        "print(\"y_train shape: \",y_train.shape)\r\n",
        "print(\"y_test shape: \",y_test.shape)"
      ],
      "execution_count": 17,
      "outputs": [
        {
          "output_type": "stream",
          "text": [
            "X_train shape:  (871, 4)\n",
            "X_test shape:  (218, 4)\n",
            "y_train shape:  (871, 1)\n",
            "y_test shape:  (218, 1)\n"
          ],
          "name": "stdout"
        }
      ]
    },
    {
      "cell_type": "markdown",
      "metadata": {
        "id": "zylwlcgbLklA"
      },
      "source": [
        "### **Fitting a linear regression model on train data**"
      ]
    },
    {
      "cell_type": "code",
      "metadata": {
        "id": "1lcEc_j1KiMj",
        "colab": {
          "base_uri": "https://localhost:8080/"
        },
        "outputId": "3ac3030f-af87-47c3-ff7f-0cead7736fa9"
      },
      "source": [
        "from sklearn.linear_model import LinearRegression\r\n",
        "\r\n",
        "model = LinearRegression()\r\n",
        "model.fit(X_train,y_train)"
      ],
      "execution_count": 18,
      "outputs": [
        {
          "output_type": "execute_result",
          "data": {
            "text/plain": [
              "LinearRegression(copy_X=True, fit_intercept=True, n_jobs=None, normalize=False)"
            ]
          },
          "metadata": {
            "tags": []
          },
          "execution_count": 18
        }
      ]
    },
    {
      "cell_type": "markdown",
      "metadata": {
        "id": "7xnmi3jeRXmE"
      },
      "source": [
        "### **Model evaluation**"
      ]
    },
    {
      "cell_type": "code",
      "metadata": {
        "colab": {
          "base_uri": "https://localhost:8080/"
        },
        "id": "1SCTXqkgL9u_",
        "outputId": "72d78495-0566-491b-e59e-e51fbaec03a6"
      },
      "source": [
        "from sklearn.metrics import mean_squared_error,r2_score\r\n",
        "\r\n",
        "print(\"Mean squared error (predicting for test set with the trained model): \",mean_squared_error(y_test, model.predict(X_test)))\r\n",
        "print(\"R squared score: \",r2_score(y_test, model.predict(X_test)))"
      ],
      "execution_count": 19,
      "outputs": [
        {
          "output_type": "stream",
          "text": [
            "Mean squared error (predicting for test set with the trained model):  0.12021867258467335\n",
            "R squared score:  0.9973092296865895\n"
          ],
          "name": "stdout"
        }
      ]
    }
  ]
}