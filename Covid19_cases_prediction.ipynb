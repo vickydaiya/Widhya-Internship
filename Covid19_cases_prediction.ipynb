{
  "nbformat": 4,
  "nbformat_minor": 0,
  "metadata": {
    "colab": {
      "name": "Covid19_cases_prediction.ipynb",
      "provenance": [],
      "authorship_tag": "ABX9TyMmglM/vRAGdnu/+bLSMcBQ",
      "include_colab_link": true
    },
    "kernelspec": {
      "name": "python3",
      "display_name": "Python 3"
    }
  },
  "cells": [
    {
      "cell_type": "markdown",
      "metadata": {
        "id": "view-in-github",
        "colab_type": "text"
      },
      "source": [
        "<a href=\"https://colab.research.google.com/github/vickydaiya/Widhya-Internship/blob/main/Covid19_cases_prediction.ipynb\" target=\"_parent\"><img src=\"https://colab.research.google.com/assets/colab-badge.svg\" alt=\"Open In Colab\"/></a>"
      ]
    },
    {
      "cell_type": "markdown",
      "metadata": {
        "id": "ILOp1q5byDU3"
      },
      "source": [
        "### **Downloading the data**"
      ]
    },
    {
      "cell_type": "code",
      "metadata": {
        "colab": {
          "base_uri": "https://localhost:8080/",
          "height": 194
        },
        "id": "J5PDjUdUxsAP",
        "outputId": "34ebd9df-0cac-41e8-d917-1c38b721b3dc"
      },
      "source": [
        "import pandas as pd\r\n",
        "\r\n",
        "url = \"https://raw.githubusercontent.com/WidhyaOrg/datasets/master/covid19.csv\"\r\n",
        "data = pd.read_csv(url)\r\n",
        "data.head()"
      ],
      "execution_count": 1,
      "outputs": [
        {
          "output_type": "execute_result",
          "data": {
            "text/html": [
              "<div>\n",
              "<style scoped>\n",
              "    .dataframe tbody tr th:only-of-type {\n",
              "        vertical-align: middle;\n",
              "    }\n",
              "\n",
              "    .dataframe tbody tr th {\n",
              "        vertical-align: top;\n",
              "    }\n",
              "\n",
              "    .dataframe thead th {\n",
              "        text-align: right;\n",
              "    }\n",
              "</style>\n",
              "<table border=\"1\" class=\"dataframe\">\n",
              "  <thead>\n",
              "    <tr style=\"text-align: right;\">\n",
              "      <th></th>\n",
              "      <th>Sno</th>\n",
              "      <th>Date</th>\n",
              "      <th>State/UnionTerritory</th>\n",
              "      <th>ConfirmedIndianNational</th>\n",
              "      <th>ConfirmedForeignNational</th>\n",
              "      <th>Cured</th>\n",
              "      <th>Deaths</th>\n",
              "    </tr>\n",
              "  </thead>\n",
              "  <tbody>\n",
              "    <tr>\n",
              "      <th>0</th>\n",
              "      <td>1</td>\n",
              "      <td>30/01/20</td>\n",
              "      <td>Kerala</td>\n",
              "      <td>1</td>\n",
              "      <td>0</td>\n",
              "      <td>0</td>\n",
              "      <td>0</td>\n",
              "    </tr>\n",
              "    <tr>\n",
              "      <th>1</th>\n",
              "      <td>2</td>\n",
              "      <td>31/01/20</td>\n",
              "      <td>Kerala</td>\n",
              "      <td>1</td>\n",
              "      <td>0</td>\n",
              "      <td>0</td>\n",
              "      <td>0</td>\n",
              "    </tr>\n",
              "    <tr>\n",
              "      <th>2</th>\n",
              "      <td>3</td>\n",
              "      <td>01/02/20</td>\n",
              "      <td>Kerala</td>\n",
              "      <td>2</td>\n",
              "      <td>0</td>\n",
              "      <td>0</td>\n",
              "      <td>0</td>\n",
              "    </tr>\n",
              "    <tr>\n",
              "      <th>3</th>\n",
              "      <td>4</td>\n",
              "      <td>02/02/20</td>\n",
              "      <td>Kerala</td>\n",
              "      <td>3</td>\n",
              "      <td>0</td>\n",
              "      <td>0</td>\n",
              "      <td>0</td>\n",
              "    </tr>\n",
              "    <tr>\n",
              "      <th>4</th>\n",
              "      <td>5</td>\n",
              "      <td>03/02/20</td>\n",
              "      <td>Kerala</td>\n",
              "      <td>3</td>\n",
              "      <td>0</td>\n",
              "      <td>0</td>\n",
              "      <td>0</td>\n",
              "    </tr>\n",
              "  </tbody>\n",
              "</table>\n",
              "</div>"
            ],
            "text/plain": [
              "   Sno      Date State/UnionTerritory  ...  ConfirmedForeignNational  Cured  Deaths\n",
              "0    1  30/01/20               Kerala  ...                         0      0       0\n",
              "1    2  31/01/20               Kerala  ...                         0      0       0\n",
              "2    3  01/02/20               Kerala  ...                         0      0       0\n",
              "3    4  02/02/20               Kerala  ...                         0      0       0\n",
              "4    5  03/02/20               Kerala  ...                         0      0       0\n",
              "\n",
              "[5 rows x 7 columns]"
            ]
          },
          "metadata": {
            "tags": []
          },
          "execution_count": 1
        }
      ]
    },
    {
      "cell_type": "markdown",
      "metadata": {
        "id": "D48T7Fk8-Ryo"
      },
      "source": [
        "### **Checking for NA values**"
      ]
    },
    {
      "cell_type": "code",
      "metadata": {
        "colab": {
          "base_uri": "https://localhost:8080/"
        },
        "id": "ycSmEr2UzZne",
        "outputId": "fac7cf8d-a0e6-498e-ac27-1eb2dec4ea05"
      },
      "source": [
        "for cols in data.columns:\r\n",
        "  print(cols,\": \",data[cols].isna().sum())"
      ],
      "execution_count": 2,
      "outputs": [
        {
          "output_type": "stream",
          "text": [
            "Sno :  0\n",
            "Date :  0\n",
            "State/UnionTerritory :  0\n",
            "ConfirmedIndianNational :  0\n",
            "ConfirmedForeignNational :  0\n",
            "Cured :  0\n",
            "Deaths :  0\n"
          ],
          "name": "stdout"
        }
      ]
    },
    {
      "cell_type": "markdown",
      "metadata": {
        "id": "LpI8dpR3-Va6"
      },
      "source": [
        "### **Grouping data by date**"
      ]
    },
    {
      "cell_type": "code",
      "metadata": {
        "id": "Vg-GTbGP0FOP"
      },
      "source": [
        "data_by_dates = data.groupby(by = \"Date\",sort = False)"
      ],
      "execution_count": 3,
      "outputs": []
    },
    {
      "cell_type": "markdown",
      "metadata": {
        "id": "w-Jl_dQ4-YaL"
      },
      "source": [
        "### **Total number of cases (ConfirmedIndianNational +\tConfirmedForeignNational + Cured + Deaths)**"
      ]
    },
    {
      "cell_type": "code",
      "metadata": {
        "id": "JCjRmptN9CVr"
      },
      "source": [
        "total_cases = data_by_dates.sum().drop('Sno',axis=1).sum(axis=1)"
      ],
      "execution_count": 4,
      "outputs": []
    },
    {
      "cell_type": "markdown",
      "metadata": {
        "id": "Sp3son_Y_ArN"
      },
      "source": [
        "### **Plotting total cases vs date**"
      ]
    },
    {
      "cell_type": "code",
      "metadata": {
        "colab": {
          "base_uri": "https://localhost:8080/",
          "height": 297
        },
        "id": "4vobkw-8_Dkw",
        "outputId": "767b544a-472f-4cd0-c163-1df571aeb008"
      },
      "source": [
        "import matplotlib.pyplot as plt\r\n",
        "\r\n",
        "plt.style.use('dark_background')\r\n",
        "total_cases.plot()"
      ],
      "execution_count": 5,
      "outputs": [
        {
          "output_type": "execute_result",
          "data": {
            "text/plain": [
              "<matplotlib.axes._subplots.AxesSubplot at 0x7fc111f57dd8>"
            ]
          },
          "metadata": {
            "tags": []
          },
          "execution_count": 5
        },
        {
          "output_type": "display_data",
          "data": {
            "image/png": "[encoded data removed]",
            "text/plain": [
              "<Figure size 432x288 with 1 Axes>"
            ]
          },
          "metadata": {
            "tags": []
          }
        }
      ]
    },
    {
      "cell_type": "markdown",
      "metadata": {
        "id": "Mj5tFw8RH5Uu"
      },
      "source": [
        "### **Computing value of r**"
      ]
    },
    {
      "cell_type": "markdown",
      "metadata": {
        "id": "9JiuvTCoWc7U"
      },
      "source": [
        "As we saw above, the plot number of cases vs time looks like an exponential curve. Hence, we will fit an exponential model which predict's the number of cases P_t on a day as P_t = P_o * (e^r*t). P_o is the number of cases on a particular day and t is number of days between the day for which P_t is to be calculated and the day for which we considered P_o "
      ]
    },
    {
      "cell_type": "markdown",
      "metadata": {
        "id": "61t2PVxmYUl0"
      },
      "source": [
        "Example: if we want to predict cases for 15-03-20 using number of cases from 05-03-20. Then, P_t is cases on 15th, P_o is cases on 5th and t is 10 (15-5)"
      ]
    },
    {
      "cell_type": "markdown",
      "metadata": {
        "id": "iS50GxonYX-F"
      },
      "source": [
        "r is the rate of increase in number of cases in a day. We have 18 (we are considering a subset of this data) such values (r from 04-03-20 to 20-03-20). We will take the average of this value as r for our model."
      ]
    },
    {
      "cell_type": "code",
      "metadata": {
        "colab": {
          "base_uri": "https://localhost:8080/"
        },
        "id": "8yLnSfeoA4Lq",
        "outputId": "0ccff32b-fa8d-4b29-8d16-103c695af176"
      },
      "source": [
        "total_cases_subset = total_cases['04/03/20':'21/03/20']\r\n",
        "\r\n",
        "r_sum = 0.0\r\n",
        "\r\n",
        "for i in range(len(total_cases_subset)-1):\r\n",
        "  r_sum = r_sum + (total_cases_subset[i+1] - total_cases_subset[i])/total_cases_subset[i]\r\n",
        "\r\n",
        "r_avg = r_sum/(len(total_cases_subset) - 1)\r\n",
        "print('Value of r for our model: ',r_avg)"
      ],
      "execution_count": 6,
      "outputs": [
        {
          "output_type": "stream",
          "text": [
            "Value of r for our model:  0.14814803793984233\n"
          ],
          "name": "stdout"
        }
      ]
    },
    {
      "cell_type": "markdown",
      "metadata": {
        "id": "lsxPCxNBH7sg"
      },
      "source": [
        "### **predicted total cases after 26 days from 04-03-20 (predicted total cases on 30-03-20)**"
      ]
    },
    {
      "cell_type": "code",
      "metadata": {
        "colab": {
          "base_uri": "https://localhost:8080/"
        },
        "id": "T1t_QAvnH9yD",
        "outputId": "bc8a3c9f-2aa8-40d2-cf02-25d6a86f4323"
      },
      "source": [
        "import math\r\n",
        "\r\n",
        "print('Predicted number of cases: ',round(total_cases_subset['04/03/20'] * math.exp(r_avg * 26)))"
      ],
      "execution_count": 7,
      "outputs": [
        {
          "output_type": "stream",
          "text": [
            "Predicted number of cases:  1459\n"
          ],
          "name": "stdout"
        }
      ]
    }
  ]
}